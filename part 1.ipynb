{
 "cells": [
  {
   "cell_type": "code",
   "execution_count": 23,
   "metadata": {},
   "outputs": [],
   "source": [
    "import numpy as np\n",
    "import matplotlib.pyplot as plt\n",
    "import pandas as pd\n",
    "import sklearn as sk\n",
    "import seaborn as sns\n",
    "from sklearn.preprocessing import OrdinalEncoder\n",
    "\n"
   ]
  },
  {
   "cell_type": "code",
   "execution_count": 9,
   "metadata": {},
   "outputs": [
    {
     "data": {
      "application/vnd.microsoft.datawrangler.viewer.v0+json": {
       "columns": [
        {
         "name": "index",
         "rawType": "int64",
         "type": "integer"
        },
        {
         "name": "User_ID",
         "rawType": "int64",
         "type": "integer"
        },
        {
         "name": "Age",
         "rawType": "int64",
         "type": "integer"
        },
        {
         "name": "Gender",
         "rawType": "object",
         "type": "string"
        },
        {
         "name": "Occupation",
         "rawType": "object",
         "type": "string"
        },
        {
         "name": "Country",
         "rawType": "object",
         "type": "string"
        },
        {
         "name": "Mental_Health_Condition",
         "rawType": "object",
         "type": "string"
        },
        {
         "name": "Severity",
         "rawType": "object",
         "type": "unknown"
        },
        {
         "name": "Consultation_History",
         "rawType": "object",
         "type": "string"
        },
        {
         "name": "Stress_Level",
         "rawType": "object",
         "type": "string"
        },
        {
         "name": "Sleep_Hours",
         "rawType": "float64",
         "type": "float"
        },
        {
         "name": "Work_Hours",
         "rawType": "int64",
         "type": "integer"
        },
        {
         "name": "Physical_Activity_Hours",
         "rawType": "int64",
         "type": "integer"
        },
        {
         "name": "Social_Media_Usage",
         "rawType": "float64",
         "type": "float"
        },
        {
         "name": "Diet_Quality",
         "rawType": "object",
         "type": "string"
        },
        {
         "name": "Smoking_Habit",
         "rawType": "object",
         "type": "string"
        },
        {
         "name": "Alcohol_Consumption",
         "rawType": "object",
         "type": "string"
        },
        {
         "name": "Medication_Usage",
         "rawType": "object",
         "type": "string"
        }
       ],
       "conversionMethod": "pd.DataFrame",
       "ref": "a40c1cf0-6659-427e-bdcf-000d9b0676fb",
       "rows": [
        [
         "0",
         "1",
         "36",
         "Male",
         "Education",
         "Australia",
         "Yes",
         null,
         "Yes",
         "Low",
         "7.6",
         "46",
         "8",
         "2.2",
         "Healthy",
         "Regular Smoker",
         "Regular Drinker",
         "Yes"
        ],
        [
         "1",
         "2",
         "48",
         "Male",
         "Engineering",
         "Other",
         "No",
         "Low",
         "No",
         "Low",
         "6.8",
         "74",
         "2",
         "3.4",
         "Unhealthy",
         "Heavy Smoker",
         "Social Drinker",
         "No"
        ],
        [
         "2",
         "3",
         "18",
         "Prefer not to say",
         "Sales",
         "India",
         "No",
         null,
         "Yes",
         "Medium",
         "7.1",
         "77",
         "9",
         "5.9",
         "Healthy",
         "Heavy Smoker",
         "Social Drinker",
         "No"
        ],
        [
         "3",
         "4",
         "30",
         "Non-binary",
         "Engineering",
         "Australia",
         "No",
         "Medium",
         "No",
         "Low",
         "6.9",
         "57",
         "4",
         "5.4",
         "Average",
         "Regular Smoker",
         "Regular Drinker",
         "No"
        ],
        [
         "4",
         "5",
         "58",
         "Male",
         "IT",
         "USA",
         "Yes",
         null,
         "Yes",
         "High",
         "4.7",
         "45",
         "10",
         "3.3",
         "Unhealthy",
         "Regular Smoker",
         "Non-Drinker",
         "Yes"
        ]
       ],
       "shape": {
        "columns": 17,
        "rows": 5
       }
      },
      "text/html": [
       "<div>\n",
       "<style scoped>\n",
       "    .dataframe tbody tr th:only-of-type {\n",
       "        vertical-align: middle;\n",
       "    }\n",
       "\n",
       "    .dataframe tbody tr th {\n",
       "        vertical-align: top;\n",
       "    }\n",
       "\n",
       "    .dataframe thead th {\n",
       "        text-align: right;\n",
       "    }\n",
       "</style>\n",
       "<table border=\"1\" class=\"dataframe\">\n",
       "  <thead>\n",
       "    <tr style=\"text-align: right;\">\n",
       "      <th></th>\n",
       "      <th>User_ID</th>\n",
       "      <th>Age</th>\n",
       "      <th>Gender</th>\n",
       "      <th>Occupation</th>\n",
       "      <th>Country</th>\n",
       "      <th>Mental_Health_Condition</th>\n",
       "      <th>Severity</th>\n",
       "      <th>Consultation_History</th>\n",
       "      <th>Stress_Level</th>\n",
       "      <th>Sleep_Hours</th>\n",
       "      <th>Work_Hours</th>\n",
       "      <th>Physical_Activity_Hours</th>\n",
       "      <th>Social_Media_Usage</th>\n",
       "      <th>Diet_Quality</th>\n",
       "      <th>Smoking_Habit</th>\n",
       "      <th>Alcohol_Consumption</th>\n",
       "      <th>Medication_Usage</th>\n",
       "    </tr>\n",
       "  </thead>\n",
       "  <tbody>\n",
       "    <tr>\n",
       "      <th>0</th>\n",
       "      <td>1</td>\n",
       "      <td>36</td>\n",
       "      <td>Male</td>\n",
       "      <td>Education</td>\n",
       "      <td>Australia</td>\n",
       "      <td>Yes</td>\n",
       "      <td>NaN</td>\n",
       "      <td>Yes</td>\n",
       "      <td>Low</td>\n",
       "      <td>7.6</td>\n",
       "      <td>46</td>\n",
       "      <td>8</td>\n",
       "      <td>2.2</td>\n",
       "      <td>Healthy</td>\n",
       "      <td>Regular Smoker</td>\n",
       "      <td>Regular Drinker</td>\n",
       "      <td>Yes</td>\n",
       "    </tr>\n",
       "    <tr>\n",
       "      <th>1</th>\n",
       "      <td>2</td>\n",
       "      <td>48</td>\n",
       "      <td>Male</td>\n",
       "      <td>Engineering</td>\n",
       "      <td>Other</td>\n",
       "      <td>No</td>\n",
       "      <td>Low</td>\n",
       "      <td>No</td>\n",
       "      <td>Low</td>\n",
       "      <td>6.8</td>\n",
       "      <td>74</td>\n",
       "      <td>2</td>\n",
       "      <td>3.4</td>\n",
       "      <td>Unhealthy</td>\n",
       "      <td>Heavy Smoker</td>\n",
       "      <td>Social Drinker</td>\n",
       "      <td>No</td>\n",
       "    </tr>\n",
       "    <tr>\n",
       "      <th>2</th>\n",
       "      <td>3</td>\n",
       "      <td>18</td>\n",
       "      <td>Prefer not to say</td>\n",
       "      <td>Sales</td>\n",
       "      <td>India</td>\n",
       "      <td>No</td>\n",
       "      <td>NaN</td>\n",
       "      <td>Yes</td>\n",
       "      <td>Medium</td>\n",
       "      <td>7.1</td>\n",
       "      <td>77</td>\n",
       "      <td>9</td>\n",
       "      <td>5.9</td>\n",
       "      <td>Healthy</td>\n",
       "      <td>Heavy Smoker</td>\n",
       "      <td>Social Drinker</td>\n",
       "      <td>No</td>\n",
       "    </tr>\n",
       "    <tr>\n",
       "      <th>3</th>\n",
       "      <td>4</td>\n",
       "      <td>30</td>\n",
       "      <td>Non-binary</td>\n",
       "      <td>Engineering</td>\n",
       "      <td>Australia</td>\n",
       "      <td>No</td>\n",
       "      <td>Medium</td>\n",
       "      <td>No</td>\n",
       "      <td>Low</td>\n",
       "      <td>6.9</td>\n",
       "      <td>57</td>\n",
       "      <td>4</td>\n",
       "      <td>5.4</td>\n",
       "      <td>Average</td>\n",
       "      <td>Regular Smoker</td>\n",
       "      <td>Regular Drinker</td>\n",
       "      <td>No</td>\n",
       "    </tr>\n",
       "    <tr>\n",
       "      <th>4</th>\n",
       "      <td>5</td>\n",
       "      <td>58</td>\n",
       "      <td>Male</td>\n",
       "      <td>IT</td>\n",
       "      <td>USA</td>\n",
       "      <td>Yes</td>\n",
       "      <td>NaN</td>\n",
       "      <td>Yes</td>\n",
       "      <td>High</td>\n",
       "      <td>4.7</td>\n",
       "      <td>45</td>\n",
       "      <td>10</td>\n",
       "      <td>3.3</td>\n",
       "      <td>Unhealthy</td>\n",
       "      <td>Regular Smoker</td>\n",
       "      <td>Non-Drinker</td>\n",
       "      <td>Yes</td>\n",
       "    </tr>\n",
       "  </tbody>\n",
       "</table>\n",
       "</div>"
      ],
      "text/plain": [
       "   User_ID  Age             Gender   Occupation    Country  \\\n",
       "0        1   36               Male    Education  Australia   \n",
       "1        2   48               Male  Engineering      Other   \n",
       "2        3   18  Prefer not to say        Sales      India   \n",
       "3        4   30         Non-binary  Engineering  Australia   \n",
       "4        5   58               Male           IT        USA   \n",
       "\n",
       "  Mental_Health_Condition Severity Consultation_History Stress_Level  \\\n",
       "0                     Yes      NaN                  Yes          Low   \n",
       "1                      No      Low                   No          Low   \n",
       "2                      No      NaN                  Yes       Medium   \n",
       "3                      No   Medium                   No          Low   \n",
       "4                     Yes      NaN                  Yes         High   \n",
       "\n",
       "   Sleep_Hours  Work_Hours  Physical_Activity_Hours  Social_Media_Usage  \\\n",
       "0          7.6          46                        8                 2.2   \n",
       "1          6.8          74                        2                 3.4   \n",
       "2          7.1          77                        9                 5.9   \n",
       "3          6.9          57                        4                 5.4   \n",
       "4          4.7          45                       10                 3.3   \n",
       "\n",
       "  Diet_Quality   Smoking_Habit Alcohol_Consumption Medication_Usage  \n",
       "0      Healthy  Regular Smoker     Regular Drinker              Yes  \n",
       "1    Unhealthy    Heavy Smoker      Social Drinker               No  \n",
       "2      Healthy    Heavy Smoker      Social Drinker               No  \n",
       "3      Average  Regular Smoker     Regular Drinker               No  \n",
       "4    Unhealthy  Regular Smoker         Non-Drinker              Yes  "
      ]
     },
     "execution_count": 9,
     "metadata": {},
     "output_type": "execute_result"
    }
   ],
   "source": [
    "mentalhealth_df = pd.read_csv('mental_health_data final data.csv')\n",
    "mentalhealth_df.drop(columns=['User_ID', 'Country',])\n",
    "mentalhealth_df.head()"
   ]
  },
  {
   "cell_type": "code",
   "execution_count": 14,
   "metadata": {},
   "outputs": [],
   "source": [
    "feature = mentalhealth_df.drop(columns=['User_ID', 'Age', 'Gender', 'Occupation', 'Country', 'Mental_Health_Condition', 'Consultation_History', 'Sleep_Hours', 'Work_Hours', 'Physical_Activity_Hours', 'Social_Media_Usage', 'Medication_Usage'])\n"
   ]
  },
  {
   "cell_type": "code",
   "execution_count": 18,
   "metadata": {},
   "outputs": [
    {
     "name": "stdout",
     "output_type": "stream",
     "text": [
      "[[nan  1.  1.  3.  2.]\n",
      " [ 1.  1.  2.  0.  3.]\n",
      " [nan  2.  1.  0.  3.]\n",
      " ...\n",
      " [ 1.  2.  0.  1.  0.]\n",
      " [ 1.  0.  1.  2.  2.]\n",
      " [ 1.  0.  2.  1.  3.]]\n"
     ]
    }
   ],
   "source": [
    "encoder = OrdinalEncoder()\n",
    "encoded_data = encoder.fit_transform(feature)\n",
    "print(encoded_data)"
   ]
  }
 ],
 "metadata": {
  "kernelspec": {
   "display_name": "base",
   "language": "python",
   "name": "python3"
  },
  "language_info": {
   "codemirror_mode": {
    "name": "ipython",
    "version": 3
   },
   "file_extension": ".py",
   "mimetype": "text/x-python",
   "name": "python",
   "nbconvert_exporter": "python",
   "pygments_lexer": "ipython3",
   "version": "3.11.5"
  }
 },
 "nbformat": 4,
 "nbformat_minor": 2
}
