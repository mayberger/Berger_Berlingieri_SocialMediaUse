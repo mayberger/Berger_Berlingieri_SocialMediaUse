{
 "cells": [
  {
   "cell_type": "code",
   "execution_count": 16,
   "metadata": {},
   "outputs": [],
   "source": [
    "import numpy as np\n",
    "import matplotlib.pyplot as plt\n",
    "import pandas as pd\n",
    "import sklearn as sk\n",
    "import seaborn as sns\n",
    "from sklearn.preprocessing import OrdinalEncoder\n",
    "from sklearn.model_selection import train_test_split, GridSearchCV\n",
    "from sklearn.tree import DecisionTreeClassifier\n",
    "from sklearn.metrics import classification_report, confusion_matrix, accuracy_score\n",
    "\n"
   ]
  },
  {
   "cell_type": "code",
   "execution_count": 10,
   "metadata": {},
   "outputs": [
    {
     "data": {
      "application/vnd.microsoft.datawrangler.viewer.v0+json": {
       "columns": [
        {
         "name": "index",
         "rawType": "int64",
         "type": "integer"
        },
        {
         "name": "User_ID",
         "rawType": "int64",
         "type": "integer"
        },
        {
         "name": "Age",
         "rawType": "int64",
         "type": "integer"
        },
        {
         "name": "Gender",
         "rawType": "object",
         "type": "string"
        },
        {
         "name": "Occupation",
         "rawType": "object",
         "type": "string"
        },
        {
         "name": "Country",
         "rawType": "object",
         "type": "string"
        },
        {
         "name": "Mental_Health_Condition",
         "rawType": "object",
         "type": "string"
        },
        {
         "name": "Severity",
         "rawType": "object",
         "type": "string"
        },
        {
         "name": "Consultation_History",
         "rawType": "object",
         "type": "string"
        },
        {
         "name": "Stress_Level",
         "rawType": "object",
         "type": "string"
        },
        {
         "name": "Sleep_Hours",
         "rawType": "float64",
         "type": "float"
        },
        {
         "name": "Work_Hours",
         "rawType": "int64",
         "type": "integer"
        },
        {
         "name": "Physical_Activity_Hours",
         "rawType": "int64",
         "type": "integer"
        },
        {
         "name": "Social_Media_Usage",
         "rawType": "float64",
         "type": "float"
        },
        {
         "name": "Diet_Quality",
         "rawType": "object",
         "type": "string"
        },
        {
         "name": "Smoking_Habit",
         "rawType": "object",
         "type": "string"
        },
        {
         "name": "Alcohol_Consumption",
         "rawType": "object",
         "type": "string"
        },
        {
         "name": "Medication_Usage",
         "rawType": "object",
         "type": "string"
        }
       ],
       "conversionMethod": "pd.DataFrame",
       "ref": "747e6d5f-dd1a-4358-80d1-3798d8118ebe",
       "rows": [
        [
         "0",
         "1",
         "36",
         "Male",
         "Education",
         "Australia",
         "Yes",
         "NA",
         "Yes",
         "Low",
         "7.6",
         "46",
         "8",
         "2.2",
         "Healthy",
         "Regular Smoker",
         "Regular Drinker",
         "Yes"
        ],
        [
         "1",
         "2",
         "48",
         "Male",
         "Engineering",
         "Other",
         "No",
         "Low",
         "No",
         "Low",
         "6.8",
         "74",
         "2",
         "3.4",
         "Unhealthy",
         "Heavy Smoker",
         "Social Drinker",
         "No"
        ],
        [
         "2",
         "3",
         "18",
         "Prefer not to say",
         "Sales",
         "India",
         "No",
         "NA",
         "Yes",
         "Medium",
         "7.1",
         "77",
         "9",
         "5.9",
         "Healthy",
         "Heavy Smoker",
         "Social Drinker",
         "No"
        ],
        [
         "3",
         "4",
         "30",
         "Non-binary",
         "Engineering",
         "Australia",
         "No",
         "Medium",
         "No",
         "Low",
         "6.9",
         "57",
         "4",
         "5.4",
         "Average",
         "Regular Smoker",
         "Regular Drinker",
         "No"
        ],
        [
         "4",
         "5",
         "58",
         "Male",
         "IT",
         "USA",
         "Yes",
         "NA",
         "Yes",
         "High",
         "4.7",
         "45",
         "10",
         "3.3",
         "Unhealthy",
         "Regular Smoker",
         "Non-Drinker",
         "Yes"
        ]
       ],
       "shape": {
        "columns": 17,
        "rows": 5
       }
      },
      "text/html": [
       "<div>\n",
       "<style scoped>\n",
       "    .dataframe tbody tr th:only-of-type {\n",
       "        vertical-align: middle;\n",
       "    }\n",
       "\n",
       "    .dataframe tbody tr th {\n",
       "        vertical-align: top;\n",
       "    }\n",
       "\n",
       "    .dataframe thead th {\n",
       "        text-align: right;\n",
       "    }\n",
       "</style>\n",
       "<table border=\"1\" class=\"dataframe\">\n",
       "  <thead>\n",
       "    <tr style=\"text-align: right;\">\n",
       "      <th></th>\n",
       "      <th>User_ID</th>\n",
       "      <th>Age</th>\n",
       "      <th>Gender</th>\n",
       "      <th>Occupation</th>\n",
       "      <th>Country</th>\n",
       "      <th>Mental_Health_Condition</th>\n",
       "      <th>Severity</th>\n",
       "      <th>Consultation_History</th>\n",
       "      <th>Stress_Level</th>\n",
       "      <th>Sleep_Hours</th>\n",
       "      <th>Work_Hours</th>\n",
       "      <th>Physical_Activity_Hours</th>\n",
       "      <th>Social_Media_Usage</th>\n",
       "      <th>Diet_Quality</th>\n",
       "      <th>Smoking_Habit</th>\n",
       "      <th>Alcohol_Consumption</th>\n",
       "      <th>Medication_Usage</th>\n",
       "    </tr>\n",
       "  </thead>\n",
       "  <tbody>\n",
       "    <tr>\n",
       "      <th>0</th>\n",
       "      <td>1</td>\n",
       "      <td>36</td>\n",
       "      <td>Male</td>\n",
       "      <td>Education</td>\n",
       "      <td>Australia</td>\n",
       "      <td>Yes</td>\n",
       "      <td>NA</td>\n",
       "      <td>Yes</td>\n",
       "      <td>Low</td>\n",
       "      <td>7.6</td>\n",
       "      <td>46</td>\n",
       "      <td>8</td>\n",
       "      <td>2.2</td>\n",
       "      <td>Healthy</td>\n",
       "      <td>Regular Smoker</td>\n",
       "      <td>Regular Drinker</td>\n",
       "      <td>Yes</td>\n",
       "    </tr>\n",
       "    <tr>\n",
       "      <th>1</th>\n",
       "      <td>2</td>\n",
       "      <td>48</td>\n",
       "      <td>Male</td>\n",
       "      <td>Engineering</td>\n",
       "      <td>Other</td>\n",
       "      <td>No</td>\n",
       "      <td>Low</td>\n",
       "      <td>No</td>\n",
       "      <td>Low</td>\n",
       "      <td>6.8</td>\n",
       "      <td>74</td>\n",
       "      <td>2</td>\n",
       "      <td>3.4</td>\n",
       "      <td>Unhealthy</td>\n",
       "      <td>Heavy Smoker</td>\n",
       "      <td>Social Drinker</td>\n",
       "      <td>No</td>\n",
       "    </tr>\n",
       "    <tr>\n",
       "      <th>2</th>\n",
       "      <td>3</td>\n",
       "      <td>18</td>\n",
       "      <td>Prefer not to say</td>\n",
       "      <td>Sales</td>\n",
       "      <td>India</td>\n",
       "      <td>No</td>\n",
       "      <td>NA</td>\n",
       "      <td>Yes</td>\n",
       "      <td>Medium</td>\n",
       "      <td>7.1</td>\n",
       "      <td>77</td>\n",
       "      <td>9</td>\n",
       "      <td>5.9</td>\n",
       "      <td>Healthy</td>\n",
       "      <td>Heavy Smoker</td>\n",
       "      <td>Social Drinker</td>\n",
       "      <td>No</td>\n",
       "    </tr>\n",
       "    <tr>\n",
       "      <th>3</th>\n",
       "      <td>4</td>\n",
       "      <td>30</td>\n",
       "      <td>Non-binary</td>\n",
       "      <td>Engineering</td>\n",
       "      <td>Australia</td>\n",
       "      <td>No</td>\n",
       "      <td>Medium</td>\n",
       "      <td>No</td>\n",
       "      <td>Low</td>\n",
       "      <td>6.9</td>\n",
       "      <td>57</td>\n",
       "      <td>4</td>\n",
       "      <td>5.4</td>\n",
       "      <td>Average</td>\n",
       "      <td>Regular Smoker</td>\n",
       "      <td>Regular Drinker</td>\n",
       "      <td>No</td>\n",
       "    </tr>\n",
       "    <tr>\n",
       "      <th>4</th>\n",
       "      <td>5</td>\n",
       "      <td>58</td>\n",
       "      <td>Male</td>\n",
       "      <td>IT</td>\n",
       "      <td>USA</td>\n",
       "      <td>Yes</td>\n",
       "      <td>NA</td>\n",
       "      <td>Yes</td>\n",
       "      <td>High</td>\n",
       "      <td>4.7</td>\n",
       "      <td>45</td>\n",
       "      <td>10</td>\n",
       "      <td>3.3</td>\n",
       "      <td>Unhealthy</td>\n",
       "      <td>Regular Smoker</td>\n",
       "      <td>Non-Drinker</td>\n",
       "      <td>Yes</td>\n",
       "    </tr>\n",
       "  </tbody>\n",
       "</table>\n",
       "</div>"
      ],
      "text/plain": [
       "   User_ID  Age             Gender   Occupation    Country  \\\n",
       "0        1   36               Male    Education  Australia   \n",
       "1        2   48               Male  Engineering      Other   \n",
       "2        3   18  Prefer not to say        Sales      India   \n",
       "3        4   30         Non-binary  Engineering  Australia   \n",
       "4        5   58               Male           IT        USA   \n",
       "\n",
       "  Mental_Health_Condition Severity Consultation_History Stress_Level  \\\n",
       "0                     Yes       NA                  Yes          Low   \n",
       "1                      No      Low                   No          Low   \n",
       "2                      No       NA                  Yes       Medium   \n",
       "3                      No   Medium                   No          Low   \n",
       "4                     Yes       NA                  Yes         High   \n",
       "\n",
       "   Sleep_Hours  Work_Hours  Physical_Activity_Hours  Social_Media_Usage  \\\n",
       "0          7.6          46                        8                 2.2   \n",
       "1          6.8          74                        2                 3.4   \n",
       "2          7.1          77                        9                 5.9   \n",
       "3          6.9          57                        4                 5.4   \n",
       "4          4.7          45                       10                 3.3   \n",
       "\n",
       "  Diet_Quality   Smoking_Habit Alcohol_Consumption Medication_Usage  \n",
       "0      Healthy  Regular Smoker     Regular Drinker              Yes  \n",
       "1    Unhealthy    Heavy Smoker      Social Drinker               No  \n",
       "2      Healthy    Heavy Smoker      Social Drinker               No  \n",
       "3      Average  Regular Smoker     Regular Drinker               No  \n",
       "4    Unhealthy  Regular Smoker         Non-Drinker              Yes  "
      ]
     },
     "execution_count": 10,
     "metadata": {},
     "output_type": "execute_result"
    }
   ],
   "source": [
    "mentalhealth_df = pd.read_csv('mental_health_data final data.csv')\n",
    "mentalhealth_df.drop(columns=['User_ID', 'Country',])\n",
    "mentalhealth_df['Severity'] = mentalhealth_df['Severity'].fillna('NA')\n",
    "mentalhealth_df.head()"
   ]
  },
  {
   "cell_type": "code",
   "execution_count": 34,
   "metadata": {},
   "outputs": [
    {
     "name": "stdout",
     "output_type": "stream",
     "text": [
      "<class 'pandas.core.frame.DataFrame'>\n",
      "RangeIndex: 50000 entries, 0 to 49999\n",
      "Data columns (total 17 columns):\n",
      " #   Column                   Non-Null Count  Dtype  \n",
      "---  ------                   --------------  -----  \n",
      " 0   User_ID                  50000 non-null  int64  \n",
      " 1   Age                      50000 non-null  int64  \n",
      " 2   Gender                   50000 non-null  object \n",
      " 3   Occupation               50000 non-null  object \n",
      " 4   Country                  50000 non-null  object \n",
      " 5   Mental_Health_Condition  50000 non-null  object \n",
      " 6   Severity                 50000 non-null  object \n",
      " 7   Consultation_History     50000 non-null  object \n",
      " 8   Stress_Level             50000 non-null  object \n",
      " 9   Sleep_Hours              50000 non-null  float64\n",
      " 10  Work_Hours               50000 non-null  int64  \n",
      " 11  Physical_Activity_Hours  50000 non-null  int64  \n",
      " 12  Social_Media_Usage       50000 non-null  float64\n",
      " 13  Diet_Quality             50000 non-null  object \n",
      " 14  Smoking_Habit            50000 non-null  object \n",
      " 15  Alcohol_Consumption      50000 non-null  object \n",
      " 16  Medication_Usage         50000 non-null  object \n",
      "dtypes: float64(2), int64(4), object(11)\n",
      "memory usage: 6.5+ MB\n"
     ]
    }
   ],
   "source": [
    "mentalhealth_df.info()"
   ]
  },
  {
   "cell_type": "code",
   "execution_count": 69,
   "metadata": {},
   "outputs": [],
   "source": [
    "feature = mentalhealth_df.drop(columns=['User_ID','Gender', 'Age','Occupation', 'Country', 'Consultation_History', 'Stress_Level', 'Medication_Usage', 'Mental_Health_Condition'])\n",
    "target = mentalhealth_df['Stress_Level']"
   ]
  },
  {
   "cell_type": "code",
   "execution_count": 70,
   "metadata": {},
   "outputs": [
    {
     "name": "stdout",
     "output_type": "stream",
     "text": [
      "[[ 3. 36. 16. ...  1.  3.  2.]\n",
      " [ 1. 28. 44. ...  2.  0.  3.]\n",
      " [ 3. 31. 47. ...  1.  0.  3.]\n",
      " ...\n",
      " [ 1. 12. 31. ...  0.  1.  0.]\n",
      " [ 1. 42. 29. ...  1.  2.  2.]\n",
      " [ 1. 38.  6. ...  2.  1.  3.]]\n"
     ]
    }
   ],
   "source": [
    "encoder = OrdinalEncoder()\n",
    "encoded_data = encoder.fit_transform(feature)\n",
    "encoded_target = encoder.fit_transform(target.values.reshape(-1, 1))\n",
    "print(encoded_data)"
   ]
  },
  {
   "cell_type": "code",
   "execution_count": 71,
   "metadata": {},
   "outputs": [
    {
     "name": "stdout",
     "output_type": "stream",
     "text": [
      "Decision Tree 0.3375\n"
     ]
    }
   ],
   "source": [
    "X = encoded_data\n",
    "y = encoded_target\n",
    "X_train, X_test, y_train, y_test = train_test_split(X, y, test_size=0.2, random_state=42)\n",
    "dt_params = {'max_depth': [1, 2, 3, 4, 5, 6, 7, 8, 9, 10],\n",
    "             'min_samples_split': [2, 3, 4, 5, 6, 7, 8, 9, 10]}\n",
    "dt = DecisionTreeClassifier(random_state=42)\n",
    "dt_grid = GridSearchCV(dt, dt_params, scoring='accuracy', cv=5)\n",
    "dt_grid.fit(X_train, y_train)\n",
    "dt_pred = dt_grid.predict(X_test)\n",
    "print('Decision Tree', accuracy_score(y_test, dt_pred))"
   ]
  },
  {
   "cell_type": "code",
   "execution_count": 73,
   "metadata": {},
   "outputs": [
    {
     "data": {
      "text/plain": [
       "Text(792.3131313131312, 0.5, 'Actual')"
      ]
     },
     "execution_count": 73,
     "metadata": {},
     "output_type": "execute_result"
    },
    {
     "data": {
      "image/png": "[encoded data removed]",
      "text/plain": [
       "<Figure size 1500x500 with 3 Axes>"
      ]
     },
     "metadata": {},
     "output_type": "display_data"
    }
   ],
   "source": [
    "dt_cm = confusion_matrix(y_test, dt_pred)\n",
    "fig, axes = plt.subplots(1, 2, figsize=(15, 5))\n",
    "sns.heatmap(dt_cm, annot=True, fmt='d', ax=axes[1], cmap='Blues')\n",
    "axes[1].set_title('Decision Tree')\n",
    "axes[1].set_xlabel('Predicted')\n",
    "axes[1].set_ylabel('Actual')"
   ]
  }
 ],
 "metadata": {
  "kernelspec": {
   "display_name": "base",
   "language": "python",
   "name": "python3"
  },
  "language_info": {
   "codemirror_mode": {
    "name": "ipython",
    "version": 3
   },
   "file_extension": ".py",
   "mimetype": "text/x-python",
   "name": "python",
   "nbconvert_exporter": "python",
   "pygments_lexer": "ipython3",
   "version": "3.11.5"
  }
 },
 "nbformat": 4,
 "nbformat_minor": 2
}
